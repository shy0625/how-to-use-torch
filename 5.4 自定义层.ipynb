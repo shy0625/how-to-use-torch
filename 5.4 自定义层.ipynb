{
 "cells": [
  {
   "cell_type": "code",
   "execution_count": null,
   "id": "682ce7d2",
   "metadata": {},
   "outputs": [],
   "source": [
    "# 我们可以用创造性的方式组合不同的层，从而设计出适用于各种任务的神经网络计算拓扑架构；\n",
    "# 例如，专用于处理图像、文本、序列数据和执行动态规划的层。"
   ]
  },
  {
   "cell_type": "markdown",
   "id": "e744bc71",
   "metadata": {},
   "source": [
    "### 5.4.1 不带参数的层 "
   ]
  },
  {
   "cell_type": "code",
   "execution_count": 1,
   "id": "7ce5ac1e",
   "metadata": {},
   "outputs": [],
   "source": [
    "import torch\n",
    "import torch.nn.functional as F\n",
    "from torch import nn"
   ]
  },
  {
   "cell_type": "code",
   "execution_count": 2,
   "id": "2ea1bfae",
   "metadata": {},
   "outputs": [],
   "source": [
    "class CenteredLayer(nn.Module):\n",
    "    def __init__(self):\n",
    "        super().__init__()\n",
    "        \n",
    "    def forward(self, X):\n",
    "        return X - X.mean()"
   ]
  },
  {
   "cell_type": "code",
   "execution_count": 3,
   "id": "5b90708e",
   "metadata": {},
   "outputs": [
    {
     "data": {
      "text/plain": [
       "tensor([-2., -1.,  0.,  1.,  2.])"
      ]
     },
     "execution_count": 3,
     "metadata": {},
     "output_type": "execute_result"
    }
   ],
   "source": [
    "layer = CenteredLayer()\n",
    "layer(torch.FloatTensor([1, 2, 3, 4, 5]))"
   ]
  },
  {
   "cell_type": "code",
   "execution_count": 4,
   "id": "9acee039",
   "metadata": {},
   "outputs": [],
   "source": [
    "net = nn.Sequential(nn.Linear(8, 128), CenteredLayer())"
   ]
  },
  {
   "cell_type": "code",
   "execution_count": 5,
   "id": "ddf9dadd",
   "metadata": {},
   "outputs": [
    {
     "data": {
      "text/plain": [
       "tensor(-3.7253e-09, grad_fn=<MeanBackward0>)"
      ]
     },
     "execution_count": 5,
     "metadata": {},
     "output_type": "execute_result"
    }
   ],
   "source": [
    "Y = net(torch.rand(4, 8))\n",
    "Y.mean()"
   ]
  },
  {
   "cell_type": "markdown",
   "id": "058903bc",
   "metadata": {},
   "source": [
    "### 5.4.2 带参数的层 "
   ]
  },
  {
   "cell_type": "code",
   "execution_count": 6,
   "id": "cc7a2b76",
   "metadata": {},
   "outputs": [],
   "source": [
    "# 我们可以使用内置函数来创建参数，这些函数提供一些基本的管理功能；\n",
    "# 比如管理访问、初始化、共享、保存和加载模型参数。"
   ]
  },
  {
   "cell_type": "code",
   "execution_count": 7,
   "id": "330bef42",
   "metadata": {},
   "outputs": [],
   "source": [
    "class MyLinear(nn.Module):\n",
    "    def __init__(self, in_units, units):\n",
    "        super().__init__()\n",
    "        self.weight = nn.Parameter(torch.randn(in_units, units))\n",
    "        self.bias = nn.Parameter(torch.randn(units,))\n",
    "        \n",
    "    def forward(self, X):\n",
    "        linear = torch.matmul(X, self.weight.data) + self.bias.data\n",
    "        return F.relu(linear)"
   ]
  },
  {
   "cell_type": "code",
   "execution_count": 8,
   "id": "e491a77f",
   "metadata": {},
   "outputs": [
    {
     "data": {
      "text/plain": [
       "Parameter containing:\n",
       "tensor([[ 0.7869,  0.9197, -2.2394],\n",
       "        [ 1.6476, -1.1165, -0.6864],\n",
       "        [-0.1229, -1.3095, -0.1413],\n",
       "        [ 0.6140, -0.6986,  0.6692],\n",
       "        [-0.1298,  0.0247, -1.0150]], requires_grad=True)"
      ]
     },
     "execution_count": 8,
     "metadata": {},
     "output_type": "execute_result"
    }
   ],
   "source": [
    "# 实例化MyLinear类并访问其模型参数\n",
    "linear = MyLinear(5, 3)\n",
    "linear.weight"
   ]
  },
  {
   "cell_type": "code",
   "execution_count": 9,
   "id": "efb7da3d",
   "metadata": {},
   "outputs": [
    {
     "data": {
      "text/plain": [
       "tensor([[0.3215, 0.0000, 0.0000],\n",
       "        [0.0000, 0.6638, 0.0000]])"
      ]
     },
     "execution_count": 9,
     "metadata": {},
     "output_type": "execute_result"
    }
   ],
   "source": [
    "linear(torch.rand(2, 5))"
   ]
  },
  {
   "cell_type": "code",
   "execution_count": 10,
   "id": "cf3db1de",
   "metadata": {},
   "outputs": [
    {
     "data": {
      "text/plain": [
       "tensor([[5.7892],\n",
       "        [0.4136]])"
      ]
     },
     "execution_count": 10,
     "metadata": {},
     "output_type": "execute_result"
    }
   ],
   "source": [
    "net = nn.Sequential(MyLinear(64, 8), MyLinear(8, 1))\n",
    "net(torch.rand(2, 64))"
   ]
  },
  {
   "cell_type": "code",
   "execution_count": null,
   "id": "5654474d",
   "metadata": {},
   "outputs": [],
   "source": []
  }
 ],
 "metadata": {
  "kernelspec": {
   "display_name": "Python 3 (ipykernel)",
   "language": "python",
   "name": "python3"
  },
  "language_info": {
   "codemirror_mode": {
    "name": "ipython",
    "version": 3
   },
   "file_extension": ".py",
   "mimetype": "text/x-python",
   "name": "python",
   "nbconvert_exporter": "python",
   "pygments_lexer": "ipython3",
   "version": "3.9.13"
  }
 },
 "nbformat": 4,
 "nbformat_minor": 5
}
